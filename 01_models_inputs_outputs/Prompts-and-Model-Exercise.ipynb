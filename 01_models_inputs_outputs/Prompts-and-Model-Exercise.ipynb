{
 "cells": [
  {
   "cell_type": "markdown",
   "id": "ede50d4d-6b9b-46b4-946c-edc6bde899c7",
   "metadata": {},
   "source": [
    "<a href = \"https://www.pieriantraining.com\"><img src=\"../PT Centered Purple.png\"> </a>\n",
    "\n",
    "<em style=\"text-align:center\">Copyrighted by Pierian Training</em>"
   ]
  },
  {
   "cell_type": "markdown",
   "id": "6c706772-7bbb-41a9-ab96-6480bc3ef2a3",
   "metadata": {
    "tags": []
   },
   "source": [
    "# Prompts and Models Exercise\n",
    "\n",
    "### NOTE: FEEL FREE TO JUST TREAT THIS AS A CODE ALONG EXAMPLE IF YOU DONT WANT AN EXERCISE BUT RATHER WATCH AN EXAMPLE.\n",
    "\n",
    "**TASK: Create a Python function that uses Prompts and Chat internally to give travel ideas related to two variables:**\n",
    "\n",
    "    * An Interest or Hobby\n",
    "    * A Budget\n",
    "    \n",
    "Remember that you should also decide on a system prompt. The end function will just be a nice wrapper on top of all the previous LangChain components we've discussed earlier."
   ]
  },
  {
   "cell_type": "code",
   "execution_count": 6,
   "id": "b4e6adae-ddfa-403f-afbc-eac1ff964c54",
   "metadata": {},
   "outputs": [],
   "source": [
    "import langchain\n",
    "import openai\n",
    "import os\n",
    "from langchain.prompts import ChatPromptTemplate, PromptTemplate, SystemMessagePromptTemplate, AIMessagePromptTemplate, HumanMessagePromptTemplate"
   ]
  },
  {
   "cell_type": "code",
   "execution_count": 13,
   "id": "a7bfe8c0",
   "metadata": {},
   "outputs": [],
   "source": [
    "api_key = os.getenv(\"OPENAI_API_KEY\")\n",
    "\n",
    "from langchain.chat_models import ChatOpenAI\n",
    "\n",
    "chat = ChatOpenAI(openai_api_key=api_key)"
   ]
  },
  {
   "cell_type": "code",
   "execution_count": 18,
   "id": "4b0d847a",
   "metadata": {},
   "outputs": [],
   "source": [
    "# DON\"T FORGET YOUR IMPORTS!\n",
    "\n",
    "def travel_idea(interest,budget):\n",
    "    # Define Templates     \n",
    "    system_template = \"You are an AI travel assistant that specializes in putting together example {interest} trip travel itineraries within a budget of {budget} dollars.\"\n",
    "    human_template = \"{trip_length}\"\n",
    "    \n",
    "    # Create Prompt Templates\n",
    "    system_message_prompt = SystemMessagePromptTemplate.from_template(system_template)\n",
    "    human_message_prompt = HumanMessagePromptTemplate.from_template(human_template)\n",
    "    \n",
    "    chat_prompt = ChatPromptTemplate.from_messages([system_message_prompt, human_message_prompt])\n",
    "    \n",
    "    prompt = chat_prompt.format_prompt(interest=interest, trip_length=\"14 days\", budget=budget).to_messages()\n",
    "    \n",
    "    # Output Result\n",
    "    result = chat(prompt)\n",
    "    \n",
    "    return result.content"
   ]
  },
  {
   "cell_type": "code",
   "execution_count": 19,
   "id": "171f3e1a",
   "metadata": {},
   "outputs": [
    {
     "name": "stdout",
     "output_type": "stream",
     "text": [
      "Day 1: Arrival in Anchorage, Alaska\n",
      "- Arrive at Ted Stevens Anchorage International Airport\n",
      "- Transfer to your hotel and settle in\n",
      "- Explore downtown Anchorage and enjoy a seafood dinner\n",
      "\n",
      "Day 2: Fishing in Kenai River\n",
      "- Depart early for a full-day guided fishing trip on the Kenai River\n",
      "- Target species such as salmon, trout, and Dolly Varden\n",
      "- Enjoy a riverside picnic lunch during the trip\n",
      "- Return to Anchorage in the evening and relax at your hotel\n",
      "\n",
      "Day 3: Fly-fishing in Bristol Bay\n",
      "- Take a morning flight to King Salmon in Bristol Bay\n",
      "- Meet with your fly-fishing guide and head out on a day of fishing for trout, grayling, and salmon\n",
      "- Enjoy a packed lunch on the river\n",
      "- Return to your lodge in the evening and enjoy a delicious dinner\n",
      "\n",
      "Day 4: Halibut Fishing in Cook Inlet\n",
      "- Depart from the lodge for a full-day halibut fishing excursion in Cook Inlet\n",
      "- Fish for halibut, as well as other species like rockfish and lingcod\n",
      "- Lunch will be provided on the boat\n",
      "- Return to the lodge and relax in the evening\n",
      "\n",
      "Day 5: Rest and Relaxation\n",
      "- Take a day to unwind and enjoy the amenities at the lodge\n",
      "- Optional activities include hiking, wildlife viewing, or spa treatments\n",
      "- Enjoy a gourmet dinner at the lodge\n",
      "\n",
      "Day 6: Salmon Fishing in the Kenai Peninsula\n",
      "- Depart for a day of salmon fishing on the Kenai Peninsula\n",
      "- Target species include king salmon, silver salmon, and sockeye salmon\n",
      "- Enjoy a picnic lunch on the riverbank\n",
      "- Return to the lodge and relax in the evening\n",
      "\n",
      "Day 7: Fly-fishing in the Talkeetna Mountains\n",
      "- Take a scenic helicopter ride to a remote fishing location in the Talkeetna Mountains\n",
      "- Spend the day fly-fishing for trout and salmon in pristine mountain streams\n",
      "- Enjoy a packed lunch on the river\n",
      "- Return to the lodge in the evening and savor a delicious dinner\n",
      "\n",
      "Day 8: Deep Sea Fishing in Seward\n",
      "- Depart for a full-day deep-sea fishing excursion in Seward\n",
      "- Target species include salmon, halibut, and rockfish\n",
      "- Lunch will be provided on the boat\n",
      "- Return to the lodge and relax in the evening\n",
      "\n",
      "Day 9: Rest and Relaxation\n",
      "- Take another day to relax and enjoy the lodge's amenities\n",
      "- Optional activities include kayaking, paddleboarding, or nature walks\n",
      "- Indulge in a gourmet dinner at the lodge\n",
      "\n",
      "Day 10: Fly-fishing in the Kenai National Wildlife Refuge\n",
      "- Depart for a guided fly-fishing trip in the Kenai National Wildlife Refuge\n",
      "- Fish for trout, grayling, and salmon in the pristine waters of the refuge\n",
      "- Enjoy a packed lunch on the riverbank\n",
      "- Return to the lodge and unwind in the evening\n",
      "\n",
      "Day 11: Salmon Fishing in Resurrection Bay\n",
      "- Depart for a day of salmon fishing in Resurrection Bay\n",
      "- Target species include silver salmon, sockeye salmon, and pink salmon\n",
      "- Enjoy a picnic lunch on the boat\n",
      "- Return to the lodge and relax in the evening\n",
      "\n",
      "Day 12: Fishing in Copper River\n",
      "- Take a scenic flight to the Copper River area\n",
      "- Spend the day fishing for salmon and trout in the Copper River\n",
      "- Enjoy a packed lunch along the riverbank\n",
      "- Return to your lodge and enjoy a gourmet dinner\n",
      "\n",
      "Day 13: Rest and Relaxation\n",
      "- Take a day to relax and soak in the natural beauty of the Copper River area\n",
      "- Optional activities include birdwatching, hiking, or exploring nearby glaciers\n",
      "- Have a farewell dinner at the lodge\n",
      "\n",
      "Day 14: Departure\n",
      "- Transfer to the airport for your departure\n",
      "- Reflect on your amazing fishing trip in Alaska as you head back home\n"
     ]
    }
   ],
   "source": [
    "print(travel_idea('fishing','$10,000'))"
   ]
  },
  {
   "cell_type": "markdown",
   "id": "34d0ecc5-a526-4a9b-933f-e7785f9401df",
   "metadata": {},
   "source": [
    "**Example Solution**\n",
    "\n",
    "Keep in mind your solution may differ slightly, but as long as it works, that's ok!"
   ]
  },
  {
   "cell_type": "code",
   "execution_count": 2,
   "id": "320be1cb-a639-460d-8472-fb6def536b19",
   "metadata": {},
   "outputs": [],
   "source": [
    "# DONT FORGET TO SETUP YOUR API KEY!"
   ]
  },
  {
   "cell_type": "code",
   "execution_count": 20,
   "id": "df2fd2ad-66f9-4462-9436-5cc5e7ea2d7f",
   "metadata": {},
   "outputs": [],
   "source": [
    "# DON\"T FORGET YOUR IMPORTS!\n",
    "\n",
    "def travel_idea(interest,budget):\n",
    "    '''\n",
    "    INPUTS:\n",
    "        interest: A str interest or hobby (e.g. fishing)\n",
    "        budget: A str budget (e.g. $10,000)\n",
    "    '''\n",
    "    \n",
    "    # DEFINE SYSTEM interest, budget template --> PromptTemplate\n",
    "    system_template = \"You are a travel agent that helps people plan trips about {interest} on a budget of {budget}\"\n",
    "    system_message_prompt = SystemMessagePromptTemplate.from_template(system_template)\n",
    "    \n",
    "    # HUMAN template --> PromptTemplate\n",
    "    human_template = \"Please give me an example itinerary\"\n",
    "    human_message_prompt = HumanMessagePromptTemplate.from_template(human_template)\n",
    "    \n",
    "    # Compile into ChatPromptTemplate\n",
    "    chat_prompt = ChatPromptTemplate.from_messages([system_message_prompt, human_message_prompt])\n",
    "\n",
    "    # Insert Variables --> ChatPromptTemplate\n",
    "    request = chat_prompt.format_prompt(interest=interest, budget=budget).to_messages()\n",
    "\n",
    "    # Make Chat Requst\n",
    "    chat = ChatOpenAI(openai_api_key=api_key)\n",
    "    result = chat(request)\n",
    "    return result.content"
   ]
  },
  {
   "cell_type": "code",
   "execution_count": null,
   "id": "f7e240b6-96cf-4163-ad19-90a44cf7ef24",
   "metadata": {},
   "outputs": [],
   "source": [
    "print(travel_idea('fishing','$10,000'))"
   ]
  },
  {
   "cell_type": "code",
   "execution_count": null,
   "id": "3803e18e",
   "metadata": {},
   "outputs": [],
   "source": []
  }
 ],
 "metadata": {
  "kernelspec": {
   "display_name": "Python 3 (ipykernel)",
   "language": "python",
   "name": "python3"
  },
  "language_info": {
   "codemirror_mode": {
    "name": "ipython",
    "version": 3
   },
   "file_extension": ".py",
   "mimetype": "text/x-python",
   "name": "python",
   "nbconvert_exporter": "python",
   "pygments_lexer": "ipython3",
   "version": "3.10.9"
  }
 },
 "nbformat": 4,
 "nbformat_minor": 5
}
