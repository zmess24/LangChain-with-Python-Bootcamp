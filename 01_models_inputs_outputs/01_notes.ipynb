{
 "cells": [
  {
   "cell_type": "code",
   "execution_count": 1,
   "id": "908851e5",
   "metadata": {},
   "outputs": [],
   "source": [
    "import openai\n",
    "import os"
   ]
  },
  {
   "cell_type": "markdown",
   "id": "45748707",
   "metadata": {},
   "source": [
    "## Testing Connection w/ OpenAI"
   ]
  },
  {
   "cell_type": "code",
   "execution_count": 8,
   "id": "ff9ab0d6",
   "metadata": {},
   "outputs": [],
   "source": [
    "openai.api_key = os.getenv(\"OPENAI_API_KEY\")"
   ]
  },
  {
   "cell_type": "code",
   "execution_count": 10,
   "id": "d4b37347",
   "metadata": {},
   "outputs": [],
   "source": [
    "response = openai.Completion.create(\n",
    "    model=\"text-davinci-003\",\n",
    "    prompt=\"Given me two reason to learn OpenAI API w/ Python\",\n",
    "    max_tokens=300\n",
    ")"
   ]
  },
  {
   "cell_type": "code",
   "execution_count": 12,
   "id": "857d5c7b",
   "metadata": {},
   "outputs": [
    {
     "name": "stdout",
     "output_type": "stream",
     "text": [
      "\n",
      "\n",
      "1. OpenAI API with Python provides a comprehensive suite of tools for working with artificial intelligence projects. It allows developers to develop powerful, complex AI models quickly and easily, without diving into the deep details of AI algorithms or having to learn complex development processes.\n",
      "\n",
      "2. OpenAI's Python APIs provide convenient and efficient access to a wide range of AI tasks. This can provide a time-saving, potent coding tool to developers looking to quickly build applications with AI capabilities that would otherwise be difficult to achieve manually. This makes OpenAI API with Python a great time-saver for developers looking to fill gaps in their skill set or speed up development of AI-based applications.\n"
     ]
    }
   ],
   "source": [
    "print(response[\"choices\"][0][\"text\"])"
   ]
  },
  {
   "cell_type": "code",
   "execution_count": 14,
   "id": "94d2b042",
   "metadata": {},
   "outputs": [
    {
     "name": "stdout",
     "output_type": "stream",
     "text": [
      "\n",
      "\n",
      "Pluto has a moon, Charon, which is almost half its size. The two objects are sometimes referred to as a double-dwarf planet system.\n"
     ]
    }
   ],
   "source": [
    "from langchain.llms import OpenAI\n",
    "api_key = os.getenv(\"OPENAI_API_KEY\")\n",
    "\n",
    "llm = OpenAI()\n",
    "\n",
    "print(llm(\"Here is a fun fact about Pluto:\"))"
   ]
  },
  {
   "cell_type": "code",
   "execution_count": 15,
   "id": "9e5d2143",
   "metadata": {},
   "outputs": [],
   "source": [
    "result = llm.generate([\"Here is a fun fact about Pluto:\", \"Here is a fun fact about Mars:\"])"
   ]
  },
  {
   "cell_type": "code",
   "execution_count": 17,
   "id": "6efb39c8",
   "metadata": {},
   "outputs": [
    {
     "data": {
      "text/plain": [
       "{'title': 'LLMResult',\n",
       " 'description': 'Class that contains all results for a batched LLM call.',\n",
       " 'type': 'object',\n",
       " 'properties': {'generations': {'title': 'Generations',\n",
       "   'type': 'array',\n",
       "   'items': {'type': 'array', 'items': {'$ref': '#/definitions/Generation'}}},\n",
       "  'llm_output': {'title': 'Llm Output', 'type': 'object'},\n",
       "  'run': {'title': 'Run',\n",
       "   'type': 'array',\n",
       "   'items': {'$ref': '#/definitions/RunInfo'}}},\n",
       " 'required': ['generations'],\n",
       " 'definitions': {'Generation': {'title': 'Generation',\n",
       "   'description': 'A single text generation output.',\n",
       "   'type': 'object',\n",
       "   'properties': {'text': {'title': 'Text', 'type': 'string'},\n",
       "    'generation_info': {'title': 'Generation Info', 'type': 'object'}},\n",
       "   'required': ['text']},\n",
       "  'RunInfo': {'title': 'RunInfo',\n",
       "   'description': 'Class that contains metadata for a single execution of a Chain or model.',\n",
       "   'type': 'object',\n",
       "   'properties': {'run_id': {'title': 'Run Id',\n",
       "     'type': 'string',\n",
       "     'format': 'uuid'}},\n",
       "   'required': ['run_id']}}}"
      ]
     },
     "execution_count": 17,
     "metadata": {},
     "output_type": "execute_result"
    }
   ],
   "source": [
    "result.schema()"
   ]
  },
  {
   "cell_type": "code",
   "execution_count": 18,
   "id": "81b85a4f",
   "metadata": {},
   "outputs": [
    {
     "data": {
      "text/plain": [
       "{'token_usage': {'prompt_tokens': 16,\n",
       "  'total_tokens': 63,\n",
       "  'completion_tokens': 47},\n",
       " 'model_name': 'text-davinci-003'}"
      ]
     },
     "execution_count": 18,
     "metadata": {},
     "output_type": "execute_result"
    }
   ],
   "source": [
    "result.llm_output"
   ]
  },
  {
   "cell_type": "code",
   "execution_count": 19,
   "id": "49784d21",
   "metadata": {},
   "outputs": [
    {
     "data": {
      "text/plain": [
       "[[Generation(text='\\n\\nPluto used to be classified as a planet but has since been reclassified as a dwarf planet.', generation_info={'finish_reason': 'stop', 'logprobs': None})],\n",
       " [Generation(text='\\n\\nMars has the tallest mountain in the solar system, Olympus Mons, which is about three times higher than Mount Everest.', generation_info={'finish_reason': 'stop', 'logprobs': None})]]"
      ]
     },
     "execution_count": 19,
     "metadata": {},
     "output_type": "execute_result"
    }
   ],
   "source": [
    "result.generations"
   ]
  },
  {
   "cell_type": "code",
   "execution_count": 22,
   "id": "5a4e0cb3",
   "metadata": {},
   "outputs": [
    {
     "name": "stdout",
     "output_type": "stream",
     "text": [
      "\n",
      "\n",
      "Mars has the tallest mountain in the solar system, Olympus Mons, which is about three times higher than Mount Everest.\n"
     ]
    }
   ],
   "source": [
    "print(result.generations[1][0].text)"
   ]
  },
  {
   "cell_type": "markdown",
   "id": "d665f3d7",
   "metadata": {},
   "source": [
    "## Chat Models\n",
    "\n",
    "Langchain creates 3 schema object for interacting w/ chat models:"
   ]
  },
  {
   "cell_type": "code",
   "execution_count": null,
   "id": "24844806",
   "metadata": {},
   "outputs": [],
   "source": []
  }
 ],
 "metadata": {
  "kernelspec": {
   "display_name": "Python 3 (ipykernel)",
   "language": "python",
   "name": "python3"
  },
  "language_info": {
   "codemirror_mode": {
    "name": "ipython",
    "version": 3
   },
   "file_extension": ".py",
   "mimetype": "text/x-python",
   "name": "python",
   "nbconvert_exporter": "python",
   "pygments_lexer": "ipython3",
   "version": "3.10.9"
  }
 },
 "nbformat": 4,
 "nbformat_minor": 5
}
